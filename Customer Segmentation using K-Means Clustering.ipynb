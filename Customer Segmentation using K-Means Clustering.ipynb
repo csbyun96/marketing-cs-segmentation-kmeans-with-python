{
 "cells": [
  {
   "cell_type": "markdown",
   "metadata": {
    "id": "MTIXrkCYKtlu"
   },
   "source": [
    "Importing the Dependencies"
   ]
  },
  {
   "cell_type": "code",
   "execution_count": 1,
   "metadata": {
    "id": "mL7HLYQFXW-c"
   },
   "outputs": [],
   "source": [
    "import numpy as np\n",
    "import pandas as pd\n",
    "import matplotlib.pyplot as plt\n",
    "import seaborn as sns\n",
    "from sklearn.cluster import KMeans"
   ]
  },
  {
   "cell_type": "markdown",
   "metadata": {
    "id": "KigjC6mBLJN3"
   },
   "source": [
    "Data Collection & Analysis"
   ]
  },
  {
   "cell_type": "code",
   "execution_count": 2,
   "metadata": {
    "id": "gTSFo2LiLIav"
   },
   "outputs": [],
   "source": [
    "# loading the data from csv file to a Pandas DataFrame\n",
    "customer_data = pd.read_csv('customers.csv')"
   ]
  },
  {
   "cell_type": "code",
   "execution_count": 3,
   "metadata": {
    "colab": {
     "base_uri": "https://localhost:8080/",
     "height": 196
    },
    "id": "mbtjztN3Lhcu",
    "outputId": "4b5e3ec9-1784-4918-bece-7616a2305e4b"
   },
   "outputs": [
    {
     "data": {
      "text/html": [
       "<div>\n",
       "<style scoped>\n",
       "    .dataframe tbody tr th:only-of-type {\n",
       "        vertical-align: middle;\n",
       "    }\n",
       "\n",
       "    .dataframe tbody tr th {\n",
       "        vertical-align: top;\n",
       "    }\n",
       "\n",
       "    .dataframe thead th {\n",
       "        text-align: right;\n",
       "    }\n",
       "</style>\n",
       "<table border=\"1\" class=\"dataframe\">\n",
       "  <thead>\n",
       "    <tr style=\"text-align: right;\">\n",
       "      <th></th>\n",
       "      <th>Channel</th>\n",
       "      <th>Region</th>\n",
       "      <th>Fresh</th>\n",
       "      <th>Milk</th>\n",
       "      <th>Grocery</th>\n",
       "      <th>Frozen</th>\n",
       "      <th>Detergents_Paper</th>\n",
       "      <th>Delicatessen</th>\n",
       "    </tr>\n",
       "  </thead>\n",
       "  <tbody>\n",
       "    <tr>\n",
       "      <th>0</th>\n",
       "      <td>2</td>\n",
       "      <td>3</td>\n",
       "      <td>12669</td>\n",
       "      <td>9656</td>\n",
       "      <td>7561</td>\n",
       "      <td>214</td>\n",
       "      <td>2674</td>\n",
       "      <td>1338</td>\n",
       "    </tr>\n",
       "    <tr>\n",
       "      <th>1</th>\n",
       "      <td>2</td>\n",
       "      <td>3</td>\n",
       "      <td>7057</td>\n",
       "      <td>9810</td>\n",
       "      <td>9568</td>\n",
       "      <td>1762</td>\n",
       "      <td>3293</td>\n",
       "      <td>1776</td>\n",
       "    </tr>\n",
       "    <tr>\n",
       "      <th>2</th>\n",
       "      <td>2</td>\n",
       "      <td>3</td>\n",
       "      <td>6353</td>\n",
       "      <td>8808</td>\n",
       "      <td>7684</td>\n",
       "      <td>2405</td>\n",
       "      <td>3516</td>\n",
       "      <td>7844</td>\n",
       "    </tr>\n",
       "    <tr>\n",
       "      <th>3</th>\n",
       "      <td>1</td>\n",
       "      <td>3</td>\n",
       "      <td>13265</td>\n",
       "      <td>1196</td>\n",
       "      <td>4221</td>\n",
       "      <td>6404</td>\n",
       "      <td>507</td>\n",
       "      <td>1788</td>\n",
       "    </tr>\n",
       "    <tr>\n",
       "      <th>4</th>\n",
       "      <td>2</td>\n",
       "      <td>3</td>\n",
       "      <td>22615</td>\n",
       "      <td>5410</td>\n",
       "      <td>7198</td>\n",
       "      <td>3915</td>\n",
       "      <td>1777</td>\n",
       "      <td>5185</td>\n",
       "    </tr>\n",
       "  </tbody>\n",
       "</table>\n",
       "</div>"
      ],
      "text/plain": [
       "   Channel  Region  Fresh  Milk  Grocery  Frozen  Detergents_Paper  \\\n",
       "0        2       3  12669  9656     7561     214              2674   \n",
       "1        2       3   7057  9810     9568    1762              3293   \n",
       "2        2       3   6353  8808     7684    2405              3516   \n",
       "3        1       3  13265  1196     4221    6404               507   \n",
       "4        2       3  22615  5410     7198    3915              1777   \n",
       "\n",
       "   Delicatessen  \n",
       "0          1338  \n",
       "1          1776  \n",
       "2          7844  \n",
       "3          1788  \n",
       "4          5185  "
      ]
     },
     "execution_count": 3,
     "metadata": {},
     "output_type": "execute_result"
    }
   ],
   "source": [
    "# first 5 rows in the dataframe\n",
    "customer_data.head()"
   ]
  },
  {
   "cell_type": "code",
   "execution_count": 4,
   "metadata": {
    "colab": {
     "base_uri": "https://localhost:8080/"
    },
    "id": "-NWZTDNRLofr",
    "outputId": "5cdb9e6b-20f2-4676-da6c-014dc7b3a38e"
   },
   "outputs": [
    {
     "data": {
      "text/plain": [
       "(440, 8)"
      ]
     },
     "execution_count": 4,
     "metadata": {},
     "output_type": "execute_result"
    }
   ],
   "source": [
    "# finding the number of rows and columns\n",
    "customer_data.shape"
   ]
  },
  {
   "cell_type": "code",
   "execution_count": 5,
   "metadata": {
    "colab": {
     "base_uri": "https://localhost:8080/"
    },
    "id": "K5qKxwHiL56b",
    "outputId": "ce5ec885-f107-493a-ecb7-42170d1fd7d5"
   },
   "outputs": [
    {
     "name": "stdout",
     "output_type": "stream",
     "text": [
      "<class 'pandas.core.frame.DataFrame'>\n",
      "RangeIndex: 440 entries, 0 to 439\n",
      "Data columns (total 8 columns):\n",
      " #   Column            Non-Null Count  Dtype\n",
      "---  ------            --------------  -----\n",
      " 0   Channel           440 non-null    int64\n",
      " 1   Region            440 non-null    int64\n",
      " 2   Fresh             440 non-null    int64\n",
      " 3   Milk              440 non-null    int64\n",
      " 4   Grocery           440 non-null    int64\n",
      " 5   Frozen            440 non-null    int64\n",
      " 6   Detergents_Paper  440 non-null    int64\n",
      " 7   Delicatessen      440 non-null    int64\n",
      "dtypes: int64(8)\n",
      "memory usage: 27.6 KB\n"
     ]
    }
   ],
   "source": [
    "# getting some informations about the dataset\n",
    "customer_data.info()"
   ]
  },
  {
   "cell_type": "code",
   "execution_count": 6,
   "metadata": {
    "colab": {
     "base_uri": "https://localhost:8080/"
    },
    "id": "vBtCZvyFMI1O",
    "outputId": "d8a19c04-d0d1-4fb6-ea71-53e2137e0307"
   },
   "outputs": [
    {
     "data": {
      "text/plain": [
       "Channel             0\n",
       "Region              0\n",
       "Fresh               0\n",
       "Milk                0\n",
       "Grocery             0\n",
       "Frozen              0\n",
       "Detergents_Paper    0\n",
       "Delicatessen        0\n",
       "dtype: int64"
      ]
     },
     "execution_count": 6,
     "metadata": {},
     "output_type": "execute_result"
    }
   ],
   "source": [
    "# checking for missing values\n",
    "customer_data.isnull().sum()"
   ]
  },
  {
   "cell_type": "markdown",
   "metadata": {
    "id": "mDtt8uP0MoiH"
   },
   "source": [
    "Choosing the Annual Income Column & Spending Score column"
   ]
  },
  {
   "cell_type": "code",
   "execution_count": 7,
   "metadata": {
    "id": "-GZMLhdvMXv5"
   },
   "outputs": [],
   "source": [
    "X = customer_data.iloc[:,[3,4]].values"
   ]
  },
  {
   "cell_type": "code",
   "execution_count": 8,
   "metadata": {
    "colab": {
     "base_uri": "https://localhost:8080/"
    },
    "id": "5vpIqX5qNHEB",
    "outputId": "ff589c21-c7ca-4c37-da4a-59ccddfbb828"
   },
   "outputs": [
    {
     "name": "stdout",
     "output_type": "stream",
     "text": [
      "[[ 9656  7561]\n",
      " [ 9810  9568]\n",
      " [ 8808  7684]\n",
      " [ 1196  4221]\n",
      " [ 5410  7198]\n",
      " [ 8259  5126]\n",
      " [ 3199  6975]\n",
      " [ 4956  9426]\n",
      " [ 3648  6192]\n",
      " [11093 18881]\n",
      " [ 5403 12974]\n",
      " [ 1124  4523]\n",
      " [12319 11757]\n",
      " [ 6208 14982]\n",
      " [ 9465 12091]\n",
      " [ 1114  3821]\n",
      " [ 8816 12121]\n",
      " [ 6157  2933]\n",
      " [ 6327 10099]\n",
      " [ 2495  9464]\n",
      " [ 4519  4602]\n",
      " [  871  2010]\n",
      " [ 1917  4469]\n",
      " [36423 22019]\n",
      " [ 9776 13792]\n",
      " [ 4230  7595]\n",
      " [  961  2861]\n",
      " [  803  3045]\n",
      " [20484 25957]\n",
      " [ 2100  2609]\n",
      " [ 3610 11107]\n",
      " [ 4339  3133]\n",
      " [ 1318  2886]\n",
      " [ 4786  7326]\n",
      " [ 1979  2262]\n",
      " [ 5491 11091]\n",
      " [ 4362  5428]\n",
      " [10556 12477]\n",
      " [15729 16709]\n",
      " [  555   902]\n",
      " [ 4332  4757]\n",
      " [ 3065  5956]\n",
      " [ 7555 14961]\n",
      " [11095 23998]\n",
      " [ 7027 10471]\n",
      " [22044 21531]\n",
      " [14069 21955]\n",
      " [54259 55571]\n",
      " [ 6152 10868]\n",
      " [21412 28921]\n",
      " [ 1095  1980]\n",
      " [ 4051  6996]\n",
      " [ 3916  5876]\n",
      " [10473 11532]\n",
      " [ 1449  1947]\n",
      " [ 3683  5005]\n",
      " [29892 26866]\n",
      " [ 9933 10487]\n",
      " [ 1970  1648]\n",
      " [ 5360  8040]\n",
      " [ 3045  7854]\n",
      " [38369 59598]\n",
      " [ 6245  6544]\n",
      " [11601 15775]\n",
      " [ 1227  3250]\n",
      " [20959 45828]\n",
      " [ 1534  7417]\n",
      " [ 6759 13462]\n",
      " [ 7260  3993]\n",
      " [ 2820  1293]\n",
      " [ 2037  3202]\n",
      " [ 1266 21042]\n",
      " [ 5139  2661]\n",
      " [ 5332  8713]\n",
      " [ 6343  9794]\n",
      " [ 1137     3]\n",
      " [ 3587  6532]\n",
      " [12697 28540]\n",
      " [ 1175  2067]\n",
      " [ 3259  3655]\n",
      " [  829  3009]\n",
      " [ 9540 14403]\n",
      " [ 9232 11009]\n",
      " [ 1563  1783]\n",
      " [ 3327  4814]\n",
      " [46197 92780]\n",
      " [73498 32114]\n",
      " [ 5025  8117]\n",
      " [  542  4042]\n",
      " [ 3836  5330]\n",
      " [  596  1638]\n",
      " [ 2762  2530]\n",
      " [27472 32034]\n",
      " [ 3090  2062]\n",
      " [12220 11323]\n",
      " [ 2920  6252]\n",
      " [ 2616  8118]\n",
      " [  254   610]\n",
      " [  112   778]\n",
      " [ 2182  1909]\n",
      " [ 7779 12144]\n",
      " [10810 16267]\n",
      " [ 6459  7677]\n",
      " [ 3504  8906]\n",
      " [ 2132  3445]\n",
      " [ 1014  3970]\n",
      " [ 6337 10704]\n",
      " [10646 14886]\n",
      " [ 8397  6981]\n",
      " [16729 28986]\n",
      " [ 1648  1694]\n",
      " [11114 17569]\n",
      " [ 2770  2469]\n",
      " [ 2295  1733]\n",
      " [ 1080  2000]\n",
      " [  793  2988]\n",
      " [ 2521  3355]\n",
      " [ 3880  5380]\n",
      " [ 1891  2362]\n",
      " [ 2344  2147]\n",
      " [ 1200  3412]\n",
      " [ 3234  1498]\n",
      " [  201   245]\n",
      " [10769  8814]\n",
      " [ 1642  2961]\n",
      " [ 3473  7102]\n",
      " [ 1840  1658]\n",
      " [ 7243 10685]\n",
      " [ 8847  3823]\n",
      " [  926  1510]\n",
      " [ 2428   699]\n",
      " [  589   314]\n",
      " [ 2032  2479]\n",
      " [ 1042  1235]\n",
      " [ 1882  2174]\n",
      " [ 1289  2591]\n",
      " [ 8579  7030]\n",
      " [ 8080  8282]\n",
      " [ 4257  5034]\n",
      " [ 4979  3343]\n",
      " [ 4280  7305]\n",
      " [13252  5189]\n",
      " [ 7152  8253]\n",
      " [ 1596  1096]\n",
      " [ 3677  1988]\n",
      " [ 8384 34792]\n",
      " [ 1936  2177]\n",
      " [ 3373  2707]\n",
      " [  584   542]\n",
      " [ 1433  1651]\n",
      " [ 1825  1765]\n",
      " [ 3328  2022]\n",
      " [ 1371  3135]\n",
      " [ 9250  2368]\n",
      " [   55   137]\n",
      " [10690 19460]\n",
      " [ 5291 14855]\n",
      " [ 1366  2474]\n",
      " [ 6570  9618]\n",
      " [ 7704 14682]\n",
      " [ 3651 12822]\n",
      " [  540   283]\n",
      " [ 2024  3810]\n",
      " [15726 26870]\n",
      " [ 7603  8584]\n",
      " [12653 19858]\n",
      " [ 6721  9170]\n",
      " [ 3195  3268]\n",
      " [  735   803]\n",
      " [  717  2155]\n",
      " [ 8675 13430]\n",
      " [25862 19816]\n",
      " [ 5479  6536]\n",
      " [ 7677 19805]\n",
      " [ 1208  5241]\n",
      " [ 7845 11874]\n",
      " [ 6958  6536]\n",
      " [ 7330  4533]\n",
      " [ 7075  4945]\n",
      " [ 4888  2500]\n",
      " [ 6036  8887]\n",
      " [29627 18148]\n",
      " [ 8533 10518]\n",
      " [43950 20170]\n",
      " [  918  4710]\n",
      " [ 6448  1139]\n",
      " [  521   854]\n",
      " [ 8002  9819]\n",
      " [ 7639 11687]\n",
      " [11577 11522]\n",
      " [ 6250  1981]\n",
      " [  295  1381]\n",
      " [ 1461  2251]\n",
      " [ 3485 20292]\n",
      " [ 1012  2974]\n",
      " [ 5139  5230]\n",
      " [ 7209  4897]\n",
      " [ 7097 10391]\n",
      " [ 2154  6824]\n",
      " [ 2280  2112]\n",
      " [13240 23127]\n",
      " [14399 24708]\n",
      " [11487  9490]\n",
      " [  685  2216]\n",
      " [  891  5226]\n",
      " [11711 23596]\n",
      " [  780   950]\n",
      " [ 4737  6089]\n",
      " [ 3748  5838]\n",
      " [12729 16767]\n",
      " [ 1895  1393]\n",
      " [28326 39694]\n",
      " [ 1012  2062]\n",
      " [ 6602  6861]\n",
      " [ 6551 11364]\n",
      " [10765 15538]\n",
      " [16599 36486]\n",
      " [ 1475  2046]\n",
      " [ 7504 15205]\n",
      " [  367  1390]\n",
      " [  899  1382]\n",
      " [ 7503 10646]\n",
      " [ 1115  2856]\n",
      " [ 2527  5265]\n",
      " [  659  1499]\n",
      " [ 3243  4157]\n",
      " [ 5921  9212]\n",
      " [ 2204  1563]\n",
      " [  577   572]\n",
      " [ 2746  2501]\n",
      " [ 5989  5615]\n",
      " [10678  3828]\n",
      " [ 1780  3838]\n",
      " [ 4984  3316]\n",
      " [ 2703  3833]\n",
      " [ 6380  2824]\n",
      " [  820  3047]\n",
      " [ 3838   593]\n",
      " [  475   585]\n",
      " [ 2567  3779]\n",
      " [ 3575  7041]\n",
      " [ 1801  2475]\n",
      " [  659  2914]\n",
      " [ 3576  5119]\n",
      " [ 7775 10817]\n",
      " [ 6154 13916]\n",
      " [ 2428  1777]\n",
      " [  346   489]\n",
      " [ 5279  2406]\n",
      " [ 3795  2070]\n",
      " [ 1993  1799]\n",
      " [23133 33586]\n",
      " [ 1860  4740]\n",
      " [ 7961 16966]\n",
      " [17972  4748]\n",
      " [  489  1495]\n",
      " [ 5008  5249]\n",
      " [ 1931  1883]\n",
      " [ 4563  2124]\n",
      " [ 4959  7336]\n",
      " [ 4885  2157]\n",
      " [ 1110  1094]\n",
      " [ 1372  1677]\n",
      " [ 1115  6684]\n",
      " [ 9679 15445]\n",
      " [23527 13699]\n",
      " [ 9763 22182]\n",
      " [ 1222  2576]\n",
      " [ 8053 19847]\n",
      " [  258  1138]\n",
      " [ 1032   975]\n",
      " [ 5007  1563]\n",
      " [ 8323  6869]\n",
      " [ 3045  1493]\n",
      " [ 1703  1841]\n",
      " [ 1610   223]\n",
      " [ 3749  6964]\n",
      " [  829   683]\n",
      " [ 2317  2543]\n",
      " [ 6200  9694]\n",
      " [ 2884  2431]\n",
      " [ 7108  6235]\n",
      " [ 3965  4252]\n",
      " [ 3613  2013]\n",
      " [ 4411 12609]\n",
      " [  640  3600]\n",
      " [ 2247  1242]\n",
      " [ 2102  2828]\n",
      " [  594  1296]\n",
      " [  286   471]\n",
      " [ 2160  2642]\n",
      " [ 3354  3261]\n",
      " [ 3086  4329]\n",
      " [11103 12469]\n",
      " [ 2013  6550]\n",
      " [ 1897  5234]\n",
      " [ 1304  3643]\n",
      " [ 3199  6986]\n",
      " [ 4560  9965]\n",
      " [  879  2060]\n",
      " [ 6243  6360]\n",
      " [13316 20399]\n",
      " [ 5302  9785]\n",
      " [ 3688 13829]\n",
      " [ 7460 24773]\n",
      " [12939  8852]\n",
      " [12867 21570]\n",
      " [ 2374  2842]\n",
      " [ 1020  3007]\n",
      " [20655 13567]\n",
      " [ 1492  2405]\n",
      " [ 2335  8280]\n",
      " [ 3737 19172]\n",
      " [  925  2405]\n",
      " [ 1795  7647]\n",
      " [14982 11924]\n",
      " [ 1375  2201]\n",
      " [ 3088  6114]\n",
      " [ 2713  3558]\n",
      " [25071 17645]\n",
      " [ 3696  2280]\n",
      " [ 1897  5167]\n",
      " [  713  3315]\n",
      " [  944 11593]\n",
      " [ 3587  2464]\n",
      " [16784 13626]\n",
      " [ 1610  1431]\n",
      " [  899  1664]\n",
      " [ 2209  3389]\n",
      " [ 1486  4583]\n",
      " [ 1786  5109]\n",
      " [14881 26839]\n",
      " [ 3216  1447]\n",
      " [ 4980 67298]\n",
      " [  928  2743]\n",
      " [ 6817 10790]\n",
      " [ 1511  1330]\n",
      " [ 1347  2611]\n",
      " [  333  7021]\n",
      " [ 1188  5332]\n",
      " [ 4025  9670]\n",
      " [ 5763 11238]\n",
      " [ 5758  5923]\n",
      " [ 6964 26316]\n",
      " [ 1172  1763]\n",
      " [ 2602  8335]\n",
      " [ 6939 15541]\n",
      " [ 7184 12311]\n",
      " [ 2380  2028]\n",
      " [14641 20521]\n",
      " [ 1099  1997]\n",
      " [10044 22294]\n",
      " [ 1106  1533]\n",
      " [ 6264 21203]\n",
      " [ 7393  2548]\n",
      " [  727  2012]\n",
      " [  134   218]\n",
      " [ 1275 22272]\n",
      " [18664  1660]\n",
      " [ 5878  2109]\n",
      " [ 2872  2006]\n",
      " [  607   864]\n",
      " [ 1601  2453]\n",
      " [  997  4438]\n",
      " [  873  1524]\n",
      " [ 6128  8025]\n",
      " [ 2217  1664]\n",
      " [  894   534]\n",
      " [ 1196  2406]\n",
      " [  337   683]\n",
      " [ 3944  4955]\n",
      " [ 1887  1939]\n",
      " [ 3801  1641]\n",
      " [ 6257  7398]\n",
      " [ 2256  1668]\n",
      " [ 1450  1162]\n",
      " [ 8630 13586]\n",
      " [ 3154  2648]\n",
      " [ 3294  1902]\n",
      " [ 5164 10391]\n",
      " [  944  2146]\n",
      " [ 4591  1617]\n",
      " [ 7435  8469]\n",
      " [ 1364  3450]\n",
      " [21858 15400]\n",
      " [  922  1614]\n",
      " [ 3620  2857]\n",
      " [ 1916  1573]\n",
      " [  848  1172]\n",
      " [ 1530  1422]\n",
      " [ 1181  1328]\n",
      " [ 2761  2313]\n",
      " [ 4180  3600]\n",
      " [ 6730  3842]\n",
      " [  865  3204]\n",
      " [ 1316  1263]\n",
      " [11991  9345]\n",
      " [ 1666  1428]\n",
      " [ 1032   582]\n",
      " [  577   935]\n",
      " [  906  1238]\n",
      " [ 2801  2128]\n",
      " [ 4753  5091]\n",
      " [11006  4604]\n",
      " [ 4613  3444]\n",
      " [ 1046  1167]\n",
      " [ 5010  5026]\n",
      " [12844 18683]\n",
      " [ 3880  6407]\n",
      " [ 3634  6100]\n",
      " [ 2096  4563]\n",
      " [ 3289  3281]\n",
      " [ 3605 12400]\n",
      " [ 4859  6633]\n",
      " [ 1990  3417]\n",
      " [ 6046  8552]\n",
      " [10940 10908]\n",
      " [ 5499 11055]\n",
      " [ 8494 18622]\n",
      " [ 3783  2223]\n",
      " [ 5266 13227]\n",
      " [ 4847  9053]\n",
      " [ 1377  4172]\n",
      " [ 3686  4657]\n",
      " [ 2884 12232]\n",
      " [ 2408  2593]\n",
      " [ 9347 14316]\n",
      " [16687  5429]\n",
      " [ 5970  4910]\n",
      " [ 1750  3580]\n",
      " [ 4230 16483]\n",
      " [ 5506  5160]\n",
      " [ 1162  4754]\n",
      " [ 3218  1493]\n",
      " [ 3922  7994]\n",
      " [12051 16027]\n",
      " [ 1431   764]\n",
      " [15488 30243]\n",
      " [ 1981  2232]\n",
      " [ 1698  2510]]\n"
     ]
    }
   ],
   "source": [
    "print(X)"
   ]
  },
  {
   "cell_type": "markdown",
   "metadata": {
    "id": "LUHCVZWVNVb5"
   },
   "source": [
    "Choosing the number of clusters"
   ]
  },
  {
   "cell_type": "markdown",
   "metadata": {
    "id": "25tFwgnZNiRF"
   },
   "source": [
    "WCSS  ->  Within Clusters Sum of Squares"
   ]
  },
  {
   "cell_type": "code",
   "execution_count": 11,
   "metadata": {
    "id": "LywIm4NDNIG1"
   },
   "outputs": [],
   "source": [
    "# finding wcss value for different number of clusters\n",
    "import warnings\n",
    "warnings.filterwarnings(\"ignore\")\n",
    "\n",
    "wcss = []\n",
    "\n",
    "for i in range(1,11):\n",
    "  kmeans = KMeans(n_clusters=i, init='k-means++', random_state=42)\n",
    "  kmeans.fit(X)\n",
    "\n",
    "  wcss.append(kmeans.inertia_)"
   ]
  },
  {
   "cell_type": "code",
   "execution_count": 13,
   "metadata": {
    "colab": {
     "base_uri": "https://localhost:8080/",
     "height": 301
    },
    "id": "1rWLIgxJPXI_",
    "outputId": "fabdc714-dcc6-465d-d84d-fc8d65b8c5dc"
   },
   "outputs": [
    {
     "data": {
      "image/png": "[encoded data removed]",
      "text/plain": [
       "<Figure size 640x480 with 1 Axes>"
      ]
     },
     "metadata": {},
     "output_type": "display_data"
    }
   ],
   "source": [
    "# plot an elbow graph\n",
    "\n",
    "sns.set()\n",
    "plt.plot(range(1,11), wcss)\n",
    "plt.title('The Elbow Point Graph')\n",
    "plt.xlabel('Number of Clusters')\n",
    "plt.ylabel('WCSS')\n",
    "plt.show()"
   ]
  },
  {
   "cell_type": "markdown",
   "metadata": {
    "id": "ifedd9_gQC4x"
   },
   "source": [
    "Optimum Number of Clusters = 5"
   ]
  },
  {
   "cell_type": "markdown",
   "metadata": {
    "id": "J3DiuWPtQKnU"
   },
   "source": [
    "Training the k-Means Clustering Model"
   ]
  },
  {
   "cell_type": "code",
   "execution_count": 14,
   "metadata": {
    "colab": {
     "base_uri": "https://localhost:8080/"
    },
    "id": "-5S3HwLpPy3h",
    "outputId": "4d008806-2579-4c85-8b65-d53f10f13191"
   },
   "outputs": [
    {
     "name": "stdout",
     "output_type": "stream",
     "text": [
      "[4 4 4 0 0 0 0 4 0 4 4 0 4 4 4 0 4 0 4 4 0 0 0 1 4 0 0 0 1 0 4 0 0 0 0 4 0\n",
      " 4 1 0 0 0 4 1 4 1 1 3 4 1 0 0 0 4 0 0 1 4 0 4 0 2 0 4 0 1 0 4 0 0 0 4 0 4\n",
      " 4 0 0 1 0 0 0 4 4 0 0 2 3 4 0 0 0 0 1 0 4 0 0 0 0 0 4 4 4 4 0 0 4 4 4 1 0\n",
      " 4 0 0 0 0 0 0 0 0 0 0 0 4 0 0 0 4 0 0 0 0 0 0 0 0 4 4 0 0 0 4 4 0 0 1 0 0\n",
      " 0 0 0 0 0 0 0 4 4 0 4 4 4 0 0 1 4 1 4 0 0 0 4 1 0 4 0 4 4 0 0 0 4 1 4 1 0\n",
      " 0 0 4 4 4 0 0 0 4 0 0 0 4 0 0 1 1 4 0 0 1 0 0 0 4 0 1 0 4 4 4 1 0 4 0 0 4\n",
      " 0 0 0 0 4 0 0 0 0 0 0 0 0 0 0 0 0 0 0 0 0 0 4 4 0 0 0 0 0 1 0 4 4 0 0 0 0\n",
      " 0 0 0 0 0 4 1 1 0 4 0 0 0 4 0 0 0 0 0 0 4 0 0 0 0 4 0 0 0 0 0 0 0 0 4 0 0\n",
      " 0 0 4 0 0 1 4 4 1 4 1 0 0 1 0 0 4 0 0 4 0 0 0 1 0 0 0 4 0 4 0 0 0 0 0 1 0\n",
      " 2 0 4 0 0 0 0 4 4 0 1 0 0 4 4 0 1 0 1 0 4 0 0 0 4 4 0 0 0 0 0 0 4 0 0 0 0\n",
      " 0 0 0 4 0 0 4 0 0 4 0 0 4 0 1 0 0 0 0 0 0 0 0 0 0 0 4 0 0 0 0 0 0 4 0 0 0\n",
      " 4 0 0 0 0 4 0 0 4 4 4 4 0 4 4 0 0 4 0 4 4 0 0 4 0 0 0 0 4 0 1 0 0]\n"
     ]
    }
   ],
   "source": [
    "kmeans = KMeans(n_clusters=5, init='k-means++', random_state=0)\n",
    "\n",
    "# return a label for each data point based on their cluster\n",
    "Y = kmeans.fit_predict(X)\n",
    "\n",
    "print(Y)"
   ]
  },
  {
   "cell_type": "markdown",
   "metadata": {
    "id": "ehXD5VrDSyuB"
   },
   "source": [
    "5 Clusters -  0, 1, 2, 3, 4"
   ]
  },
  {
   "cell_type": "markdown",
   "metadata": {
    "id": "AfFa2VDQRNcK"
   },
   "source": [
    "Visualizing all the Clusters"
   ]
  },
  {
   "cell_type": "code",
   "execution_count": 15,
   "metadata": {
    "colab": {
     "base_uri": "https://localhost:8080/",
     "height": 518
    },
    "id": "Tl_Obm0aQ_cU",
    "outputId": "9e554efe-7307-4f24-bbda-7fded2ce0616"
   },
   "outputs": [
    {
     "data": {
      "image/png": "[encoded data removed]",
      "text/plain": [
       "<Figure size 800x800 with 1 Axes>"
      ]
     },
     "metadata": {},
     "output_type": "display_data"
    }
   ],
   "source": [
    "# plotting all the clusters and their Centroids\n",
    "\n",
    "plt.figure(figsize=(8,8))\n",
    "plt.scatter(X[Y==0,0], X[Y==0,1], s=50, c='green', label='Cluster 1')\n",
    "plt.scatter(X[Y==1,0], X[Y==1,1], s=50, c='red', label='Cluster 2')\n",
    "plt.scatter(X[Y==2,0], X[Y==2,1], s=50, c='yellow', label='Cluster 3')\n",
    "plt.scatter(X[Y==3,0], X[Y==3,1], s=50, c='violet', label='Cluster 4')\n",
    "plt.scatter(X[Y==4,0], X[Y==4,1], s=50, c='blue', label='Cluster 5')\n",
    "\n",
    "# plot the centroids\n",
    "plt.scatter(kmeans.cluster_centers_[:,0], kmeans.cluster_centers_[:,1], s=100, c='cyan', label='Centroids')\n",
    "\n",
    "plt.title('Customer Groups')\n",
    "plt.xlabel('Annual Income')\n",
    "plt.ylabel('Spending Score')\n",
    "plt.show()"
   ]
  },
  {
   "cell_type": "code",
   "execution_count": null,
   "metadata": {
    "id": "OjWc3GPiUFBm"
   },
   "outputs": [],
   "source": []
  }
 ],
 "metadata": {
  "colab": {
   "provenance": []
  },
  "kernelspec": {
   "display_name": "Python 3 (ipykernel)",
   "language": "python",
   "name": "python3"
  },
  "language_info": {
   "codemirror_mode": {
    "name": "ipython",
    "version": 3
   },
   "file_extension": ".py",
   "mimetype": "text/x-python",
   "name": "python",
   "nbconvert_exporter": "python",
   "pygments_lexer": "ipython3",
   "version": "3.10.9"
  }
 },
 "nbformat": 4,
 "nbformat_minor": 1
}
